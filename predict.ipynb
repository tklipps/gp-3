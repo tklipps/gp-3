{
 "cells": [
  {
   "cell_type": "code",
   "execution_count": 2,
   "metadata": {},
   "outputs": [
    {
     "name": "stdout",
     "output_type": "stream",
     "text": [
      "             timestamp  unit_id           unit_type empire_or_resistance  \\\n",
      "0  2024-10-08 13:34:20        1  resistance_soldier           resistance   \n",
      "1  2024-10-08 13:34:19        2               at-st           resistance   \n",
      "2  2024-10-08 13:34:18        3             unknown           resistance   \n",
      "3  2024-10-08 13:34:17        4             unknown           resistance   \n",
      "4  2024-10-08 13:34:16        5               at-at           resistance   \n",
      "\n",
      "   location_x  location_y  destination_x  destination_y    homeworld  \n",
      "0           7           7              3              5   Haruun Kal  \n",
      "1           4           5              9              2  Aleen Minor  \n",
      "2           1           7              6              9     Tatooine  \n",
      "3          10           6              5              4      Sullust  \n",
      "4           1           2              2              6       Umbara  \n"
     ]
    }
   ],
   "source": [
    "import pandas as pd\n",
    "\n",
    "df = pd.read_csv(\"troop_movements.csv\")\n",
    "print(df.head())"
   ]
  },
  {
   "cell_type": "code",
   "execution_count": 9,
   "metadata": {},
   "outputs": [
    {
     "data": {
      "text/html": [
       "<div>\n",
       "<style scoped>\n",
       "    .dataframe tbody tr th:only-of-type {\n",
       "        vertical-align: middle;\n",
       "    }\n",
       "\n",
       "    .dataframe tbody tr th {\n",
       "        vertical-align: top;\n",
       "    }\n",
       "\n",
       "    .dataframe thead th {\n",
       "        text-align: right;\n",
       "    }\n",
       "</style>\n",
       "<table border=\"1\" class=\"dataframe\">\n",
       "  <thead>\n",
       "    <tr style=\"text-align: right;\">\n",
       "      <th></th>\n",
       "      <th>empire_or_resistance</th>\n",
       "      <th>count</th>\n",
       "    </tr>\n",
       "  </thead>\n",
       "  <tbody>\n",
       "    <tr>\n",
       "      <th>0</th>\n",
       "      <td>empire</td>\n",
       "      <td>472</td>\n",
       "    </tr>\n",
       "    <tr>\n",
       "      <th>1</th>\n",
       "      <td>resistance</td>\n",
       "      <td>528</td>\n",
       "    </tr>\n",
       "  </tbody>\n",
       "</table>\n",
       "</div>"
      ],
      "text/plain": [
       "  empire_or_resistance  count\n",
       "0               empire    472\n",
       "1           resistance    528"
      ]
     },
     "execution_count": 9,
     "metadata": {},
     "output_type": "execute_result"
    }
   ],
   "source": [
    "count_emp_res_df = df.groupby(\"empire_or_resistance\").size().reset_index(name=\"count\")\n",
    "count_emp_res_df"
   ]
  },
  {
   "cell_type": "code",
   "execution_count": null,
   "metadata": {},
   "outputs": [],
   "source": [
    "count_char_hw_df = df.groupby(\"homeworld\").size().reset_index(name=\"count\")\n",
    "count_char_hw_df"
   ]
  },
  {
   "cell_type": "code",
   "execution_count": 11,
   "metadata": {},
   "outputs": [
    {
     "data": {
      "text/html": [
       "<div>\n",
       "<style scoped>\n",
       "    .dataframe tbody tr th:only-of-type {\n",
       "        vertical-align: middle;\n",
       "    }\n",
       "\n",
       "    .dataframe tbody tr th {\n",
       "        vertical-align: top;\n",
       "    }\n",
       "\n",
       "    .dataframe thead th {\n",
       "        text-align: right;\n",
       "    }\n",
       "</style>\n",
       "<table border=\"1\" class=\"dataframe\">\n",
       "  <thead>\n",
       "    <tr style=\"text-align: right;\">\n",
       "      <th></th>\n",
       "      <th>unit_type</th>\n",
       "      <th>count</th>\n",
       "    </tr>\n",
       "  </thead>\n",
       "  <tbody>\n",
       "    <tr>\n",
       "      <th>0</th>\n",
       "      <td>at-at</td>\n",
       "      <td>114</td>\n",
       "    </tr>\n",
       "    <tr>\n",
       "      <th>1</th>\n",
       "      <td>at-st</td>\n",
       "      <td>127</td>\n",
       "    </tr>\n",
       "    <tr>\n",
       "      <th>2</th>\n",
       "      <td>resistance_soldier</td>\n",
       "      <td>133</td>\n",
       "    </tr>\n",
       "    <tr>\n",
       "      <th>3</th>\n",
       "      <td>stormtrooper</td>\n",
       "      <td>127</td>\n",
       "    </tr>\n",
       "    <tr>\n",
       "      <th>4</th>\n",
       "      <td>tie_fighter</td>\n",
       "      <td>119</td>\n",
       "    </tr>\n",
       "    <tr>\n",
       "      <th>5</th>\n",
       "      <td>tie_silencer</td>\n",
       "      <td>131</td>\n",
       "    </tr>\n",
       "    <tr>\n",
       "      <th>6</th>\n",
       "      <td>unknown</td>\n",
       "      <td>131</td>\n",
       "    </tr>\n",
       "    <tr>\n",
       "      <th>7</th>\n",
       "      <td>x-wing</td>\n",
       "      <td>118</td>\n",
       "    </tr>\n",
       "  </tbody>\n",
       "</table>\n",
       "</div>"
      ],
      "text/plain": [
       "            unit_type  count\n",
       "0               at-at    114\n",
       "1               at-st    127\n",
       "2  resistance_soldier    133\n",
       "3        stormtrooper    127\n",
       "4         tie_fighter    119\n",
       "5        tie_silencer    131\n",
       "6             unknown    131\n",
       "7              x-wing    118"
      ]
     },
     "execution_count": 11,
     "metadata": {},
     "output_type": "execute_result"
    }
   ],
   "source": [
    "count_unit_type_df = df.groupby(\"unit_type\").size().reset_index(name=\"count\")\n",
    "count_unit_type_df"
   ]
  },
  {
   "cell_type": "code",
   "execution_count": 14,
   "metadata": {},
   "outputs": [
    {
     "data": {
      "text/html": [
       "<div>\n",
       "<style scoped>\n",
       "    .dataframe tbody tr th:only-of-type {\n",
       "        vertical-align: middle;\n",
       "    }\n",
       "\n",
       "    .dataframe tbody tr th {\n",
       "        vertical-align: top;\n",
       "    }\n",
       "\n",
       "    .dataframe thead th {\n",
       "        text-align: right;\n",
       "    }\n",
       "</style>\n",
       "<table border=\"1\" class=\"dataframe\">\n",
       "  <thead>\n",
       "    <tr style=\"text-align: right;\">\n",
       "      <th></th>\n",
       "      <th>timestamp</th>\n",
       "      <th>unit_id</th>\n",
       "      <th>unit_type</th>\n",
       "      <th>empire_or_resistance</th>\n",
       "      <th>location_x</th>\n",
       "      <th>location_y</th>\n",
       "      <th>destination_x</th>\n",
       "      <th>destination_y</th>\n",
       "      <th>homeworld</th>\n",
       "      <th>is_resistance</th>\n",
       "    </tr>\n",
       "  </thead>\n",
       "  <tbody>\n",
       "    <tr>\n",
       "      <th>0</th>\n",
       "      <td>2024-10-08 13:34:20</td>\n",
       "      <td>1</td>\n",
       "      <td>resistance_soldier</td>\n",
       "      <td>resistance</td>\n",
       "      <td>7</td>\n",
       "      <td>7</td>\n",
       "      <td>3</td>\n",
       "      <td>5</td>\n",
       "      <td>Haruun Kal</td>\n",
       "      <td>True</td>\n",
       "    </tr>\n",
       "    <tr>\n",
       "      <th>1</th>\n",
       "      <td>2024-10-08 13:34:19</td>\n",
       "      <td>2</td>\n",
       "      <td>at-st</td>\n",
       "      <td>resistance</td>\n",
       "      <td>4</td>\n",
       "      <td>5</td>\n",
       "      <td>9</td>\n",
       "      <td>2</td>\n",
       "      <td>Aleen Minor</td>\n",
       "      <td>True</td>\n",
       "    </tr>\n",
       "    <tr>\n",
       "      <th>2</th>\n",
       "      <td>2024-10-08 13:34:18</td>\n",
       "      <td>3</td>\n",
       "      <td>unknown</td>\n",
       "      <td>resistance</td>\n",
       "      <td>1</td>\n",
       "      <td>7</td>\n",
       "      <td>6</td>\n",
       "      <td>9</td>\n",
       "      <td>Tatooine</td>\n",
       "      <td>True</td>\n",
       "    </tr>\n",
       "    <tr>\n",
       "      <th>3</th>\n",
       "      <td>2024-10-08 13:34:17</td>\n",
       "      <td>4</td>\n",
       "      <td>unknown</td>\n",
       "      <td>resistance</td>\n",
       "      <td>10</td>\n",
       "      <td>6</td>\n",
       "      <td>5</td>\n",
       "      <td>4</td>\n",
       "      <td>Sullust</td>\n",
       "      <td>True</td>\n",
       "    </tr>\n",
       "    <tr>\n",
       "      <th>4</th>\n",
       "      <td>2024-10-08 13:34:16</td>\n",
       "      <td>5</td>\n",
       "      <td>at-at</td>\n",
       "      <td>resistance</td>\n",
       "      <td>1</td>\n",
       "      <td>2</td>\n",
       "      <td>2</td>\n",
       "      <td>6</td>\n",
       "      <td>Umbara</td>\n",
       "      <td>True</td>\n",
       "    </tr>\n",
       "    <tr>\n",
       "      <th>...</th>\n",
       "      <td>...</td>\n",
       "      <td>...</td>\n",
       "      <td>...</td>\n",
       "      <td>...</td>\n",
       "      <td>...</td>\n",
       "      <td>...</td>\n",
       "      <td>...</td>\n",
       "      <td>...</td>\n",
       "      <td>...</td>\n",
       "      <td>...</td>\n",
       "    </tr>\n",
       "    <tr>\n",
       "      <th>995</th>\n",
       "      <td>2024-10-08 13:17:45</td>\n",
       "      <td>996</td>\n",
       "      <td>tie_fighter</td>\n",
       "      <td>empire</td>\n",
       "      <td>6</td>\n",
       "      <td>1</td>\n",
       "      <td>6</td>\n",
       "      <td>2</td>\n",
       "      <td>Stewjon</td>\n",
       "      <td>False</td>\n",
       "    </tr>\n",
       "    <tr>\n",
       "      <th>996</th>\n",
       "      <td>2024-10-08 13:17:44</td>\n",
       "      <td>997</td>\n",
       "      <td>tie_silencer</td>\n",
       "      <td>resistance</td>\n",
       "      <td>10</td>\n",
       "      <td>5</td>\n",
       "      <td>7</td>\n",
       "      <td>2</td>\n",
       "      <td>Glee Anselm</td>\n",
       "      <td>True</td>\n",
       "    </tr>\n",
       "    <tr>\n",
       "      <th>997</th>\n",
       "      <td>2024-10-08 13:17:43</td>\n",
       "      <td>998</td>\n",
       "      <td>x-wing</td>\n",
       "      <td>resistance</td>\n",
       "      <td>4</td>\n",
       "      <td>5</td>\n",
       "      <td>10</td>\n",
       "      <td>7</td>\n",
       "      <td>Kashyyyk</td>\n",
       "      <td>True</td>\n",
       "    </tr>\n",
       "    <tr>\n",
       "      <th>998</th>\n",
       "      <td>2024-10-08 13:17:42</td>\n",
       "      <td>999</td>\n",
       "      <td>unknown</td>\n",
       "      <td>resistance</td>\n",
       "      <td>6</td>\n",
       "      <td>10</td>\n",
       "      <td>5</td>\n",
       "      <td>9</td>\n",
       "      <td>Trandosha</td>\n",
       "      <td>True</td>\n",
       "    </tr>\n",
       "    <tr>\n",
       "      <th>999</th>\n",
       "      <td>2024-10-08 13:17:41</td>\n",
       "      <td>1000</td>\n",
       "      <td>at-st</td>\n",
       "      <td>empire</td>\n",
       "      <td>10</td>\n",
       "      <td>2</td>\n",
       "      <td>4</td>\n",
       "      <td>3</td>\n",
       "      <td>Zolan</td>\n",
       "      <td>False</td>\n",
       "    </tr>\n",
       "  </tbody>\n",
       "</table>\n",
       "<p>1000 rows × 10 columns</p>\n",
       "</div>"
      ],
      "text/plain": [
       "               timestamp  unit_id           unit_type empire_or_resistance  \\\n",
       "0    2024-10-08 13:34:20        1  resistance_soldier           resistance   \n",
       "1    2024-10-08 13:34:19        2               at-st           resistance   \n",
       "2    2024-10-08 13:34:18        3             unknown           resistance   \n",
       "3    2024-10-08 13:34:17        4             unknown           resistance   \n",
       "4    2024-10-08 13:34:16        5               at-at           resistance   \n",
       "..                   ...      ...                 ...                  ...   \n",
       "995  2024-10-08 13:17:45      996         tie_fighter               empire   \n",
       "996  2024-10-08 13:17:44      997        tie_silencer           resistance   \n",
       "997  2024-10-08 13:17:43      998              x-wing           resistance   \n",
       "998  2024-10-08 13:17:42      999             unknown           resistance   \n",
       "999  2024-10-08 13:17:41     1000               at-st               empire   \n",
       "\n",
       "     location_x  location_y  destination_x  destination_y    homeworld  \\\n",
       "0             7           7              3              5   Haruun Kal   \n",
       "1             4           5              9              2  Aleen Minor   \n",
       "2             1           7              6              9     Tatooine   \n",
       "3            10           6              5              4      Sullust   \n",
       "4             1           2              2              6       Umbara   \n",
       "..          ...         ...            ...            ...          ...   \n",
       "995           6           1              6              2      Stewjon   \n",
       "996          10           5              7              2  Glee Anselm   \n",
       "997           4           5             10              7     Kashyyyk   \n",
       "998           6          10              5              9    Trandosha   \n",
       "999          10           2              4              3        Zolan   \n",
       "\n",
       "     is_resistance  \n",
       "0             True  \n",
       "1             True  \n",
       "2             True  \n",
       "3             True  \n",
       "4             True  \n",
       "..             ...  \n",
       "995          False  \n",
       "996           True  \n",
       "997           True  \n",
       "998           True  \n",
       "999          False  \n",
       "\n",
       "[1000 rows x 10 columns]"
      ]
     },
     "execution_count": 14,
     "metadata": {},
     "output_type": "execute_result"
    }
   ],
   "source": [
    "df[\"is_resistance\"] = df[\"empire_or_resistance\"].apply(lambda x: True if x == \"resistance\" else False)\n",
    "df"
   ]
  },
  {
   "cell_type": "code",
   "execution_count": 26,
   "metadata": {},
   "outputs": [
    {
     "data": {
      "text/plain": [
       "<Axes: xlabel='empire_or_resistance', ylabel='count'>"
      ]
     },
     "execution_count": 26,
     "metadata": {},
     "output_type": "execute_result"
    },
    {
     "data": {
      "image/png": "[encoded data removed]",
      "text/plain": [
       "<Figure size 640x480 with 1 Axes>"
      ]
     },
     "metadata": {},
     "output_type": "display_data"
    }
   ],
   "source": [
    "import seaborn as sns\n",
    "from sklearn.model_selection import train_test_split\n",
    "from sklearn.metrics import accuracy_score\n",
    "sns.barplot(data=count_emp_res_df, x=\"empire_or_resistance\", y=\"count\") "
   ]
  },
  {
   "cell_type": "code",
   "execution_count": 93,
   "metadata": {},
   "outputs": [],
   "source": [
    "y = df[\"is_resistance\"]\n",
    "X = pd.get_dummies(df[[\"homeworld\",\"unit_type\"]])"
   ]
  },
  {
   "cell_type": "code",
   "execution_count": 94,
   "metadata": {},
   "outputs": [],
   "source": [
    "x_train, x_test, y_train, y_test = train_test_split(X, y, test_size=0.20, random_state=42)"
   ]
  },
  {
   "cell_type": "code",
   "execution_count": 95,
   "metadata": {},
   "outputs": [],
   "source": [
    "from sklearn import tree\n",
    "\n",
    "clf =  tree.DecisionTreeClassifier()\n",
    "clf = clf.fit(x_train,y_train)"
   ]
  },
  {
   "cell_type": "code",
   "execution_count": 96,
   "metadata": {},
   "outputs": [
    {
     "name": "stdout",
     "output_type": "stream",
     "text": [
      "0.53\n"
     ]
    }
   ],
   "source": [
    "clf.predict(x_test)\n",
    "\n",
    "score = clf.score(x_test, y_test)\n",
    "print(score)"
   ]
  },
  {
   "cell_type": "code",
   "execution_count": 97,
   "metadata": {},
   "outputs": [
    {
     "name": "stderr",
     "output_type": "stream",
     "text": [
      "C:\\Users\\wasadmin\\AppData\\Local\\Temp\\2\\ipykernel_4384\\2670635549.py:4: UserWarning: set_ticklabels() should only be used with a fixed number of ticks, i.e. after set_ticks() or using a FixedLocator.\n",
      "  plot.set_xticklabels(plot.get_xticklabels(), rotation=90, size=8)\n"
     ]
    },
    {
     "data": {
      "text/plain": [
       "[Text(0, 0, 'homeworld_Alderaan'),\n",
       " Text(1, 0, 'homeworld_Aleen Minor'),\n",
       " Text(2, 0, 'homeworld_Bestine IV'),\n",
       " Text(3, 0, 'homeworld_Cerea'),\n",
       " Text(4, 0, 'homeworld_Champala'),\n",
       " Text(5, 0, 'homeworld_Chandrila'),\n",
       " Text(6, 0, 'homeworld_Concord Dawn'),\n",
       " Text(7, 0, 'homeworld_Corellia'),\n",
       " Text(8, 0, 'homeworld_Dagobah'),\n",
       " Text(9, 0, 'homeworld_Dathomir'),\n",
       " Text(10, 0, 'homeworld_Dorin'),\n",
       " Text(11, 0, 'homeworld_Eriadu'),\n",
       " Text(12, 0, 'homeworld_Glee Anselm'),\n",
       " Text(13, 0, 'homeworld_Haruun Kal'),\n",
       " Text(14, 0, 'homeworld_Iktotch'),\n",
       " Text(15, 0, 'homeworld_Iridonia'),\n",
       " Text(16, 0, 'homeworld_Kalee'),\n",
       " Text(17, 0, 'homeworld_Kashyyyk'),\n",
       " Text(18, 0, 'homeworld_Malastare'),\n",
       " Text(19, 0, 'homeworld_Mirial'),\n",
       " Text(20, 0, 'homeworld_Mon Cala'),\n",
       " Text(21, 0, 'homeworld_Muunilinst'),\n",
       " Text(22, 0, 'homeworld_Naboo'),\n",
       " Text(23, 0, 'homeworld_Ojom'),\n",
       " Text(24, 0, 'homeworld_Quermia'),\n",
       " Text(25, 0, 'homeworld_Rodia'),\n",
       " Text(26, 0, 'homeworld_Ryloth'),\n",
       " Text(27, 0, 'homeworld_Serenno'),\n",
       " Text(28, 0, 'homeworld_Shili'),\n",
       " Text(29, 0, 'homeworld_Skako'),\n",
       " Text(30, 0, 'homeworld_Socorro'),\n",
       " Text(31, 0, 'homeworld_Stewjon'),\n",
       " Text(32, 0, 'homeworld_Sullust'),\n",
       " Text(33, 0, 'homeworld_Tatooine'),\n",
       " Text(34, 0, 'homeworld_Tholoth'),\n",
       " Text(35, 0, 'homeworld_Toydaria'),\n",
       " Text(36, 0, 'homeworld_Trandosha'),\n",
       " Text(37, 0, 'homeworld_Troiken'),\n",
       " Text(38, 0, 'homeworld_Tund'),\n",
       " Text(39, 0, 'homeworld_Umbara'),\n",
       " Text(40, 0, 'homeworld_Vulpter'),\n",
       " Text(41, 0, 'homeworld_Zolan'),\n",
       " Text(42, 0, 'unit_type_at-at'),\n",
       " Text(43, 0, 'unit_type_at-st'),\n",
       " Text(44, 0, 'unit_type_resistance_soldier'),\n",
       " Text(45, 0, 'unit_type_stormtrooper'),\n",
       " Text(46, 0, 'unit_type_tie_fighter'),\n",
       " Text(47, 0, 'unit_type_tie_silencer'),\n",
       " Text(48, 0, 'unit_type_unknown'),\n",
       " Text(49, 0, 'unit_type_x-wing')]"
      ]
     },
     "execution_count": 97,
     "metadata": {},
     "output_type": "execute_result"
    },
    {
     "data": {
      "image/png": "[encoded data removed]",
      "text/plain": [
       "<Figure size 640x480 with 1 Axes>"
      ]
     },
     "metadata": {},
     "output_type": "display_data"
    }
   ],
   "source": [
    "importances = clf.feature_importances_\n",
    "feature_importances = pd.DataFrame({'Feature': X.columns, \"importances\": importances})\n",
    "plot = sns.barplot(data=feature_importances, x=\"Feature\", y=\"importances\") \n",
    "plot.set_xticklabels(plot.get_xticklabels(), rotation=90, size=8)\n",
    "\n"
   ]
  },
  {
   "cell_type": "code",
   "execution_count": 98,
   "metadata": {},
   "outputs": [],
   "source": [
    "import pickle\n",
    "\n",
    "file_path = 'gp3.pkl'\n",
    "\n",
    "with open(file_path, 'wb') as file:\n",
    "    pickle.dump(clf, file)"
   ]
  },
  {
   "cell_type": "code",
   "execution_count": 99,
   "metadata": {},
   "outputs": [],
   "source": [
    "new_data = pd.read_csv(\"troop_movements_1m.csv\")\n",
    "\n",
    "new_data[\"unit_type\"] = new_data[\"unit_type\"].apply(lambda x: \"unknown\" if x == \"invalid_unit\" else x)\n"
   ]
  },
  {
   "cell_type": "code",
   "execution_count": 100,
   "metadata": {},
   "outputs": [],
   "source": [
    "cols = ['location_x', 'location_y']\n",
    "new_data.loc[:,cols] = new_data.loc[:,cols].ffill()\n"
   ]
  },
  {
   "cell_type": "code",
   "execution_count": 101,
   "metadata": {},
   "outputs": [
    {
     "name": "stdout",
     "output_type": "stream",
     "text": [
      "^C\n",
      "Note: you may need to restart the kernel to use updated packages.\n"
     ]
    },
    {
     "name": "stdout",
     "output_type": "stream",
     "text": [
      "Defaulting to user installation because normal site-packages is not writeable\n",
      "Requirement already satisfied: pyarrow in c:\\users\\wasadmin\\appdata\\roaming\\python\\python312\\site-packages (17.0.0)\n",
      "Requirement already satisfied: numpy>=1.16.6 in c:\\users\\wasadmin\\appdata\\roaming\\python\\python312\\site-packages (from pyarrow) (1.26.4)\n"
     ]
    },
    {
     "name": "stderr",
     "output_type": "stream",
     "text": [
      "\n",
      "[notice] A new release of pip is available: 24.0 -> 24.2\n",
      "[notice] To update, run: python.exe -m pip install --upgrade pip\n"
     ]
    }
   ],
   "source": [
    "%pip install pyarrow"
   ]
  },
  {
   "cell_type": "code",
   "execution_count": 71,
   "metadata": {},
   "outputs": [
    {
     "name": "stdout",
     "output_type": "stream",
     "text": [
      "Defaulting to user installation because normal site-packages is not writeable\n",
      "Collecting fastparquet\n",
      "  Downloading fastparquet-2024.5.0-cp312-cp312-win_amd64.whl.metadata (4.3 kB)\n",
      "Requirement already satisfied: pandas>=1.5.0 in c:\\users\\wasadmin\\appdata\\roaming\\python\\python312\\site-packages (from fastparquet) (2.2.2)\n",
      "Requirement already satisfied: numpy in c:\\users\\wasadmin\\appdata\\roaming\\python\\python312\\site-packages (from fastparquet) (1.26.4)\n",
      "Collecting cramjam>=2.3 (from fastparquet)\n",
      "  Downloading cramjam-2.8.4-cp312-none-win_amd64.whl.metadata (4.7 kB)\n",
      "Collecting fsspec (from fastparquet)\n",
      "  Downloading fsspec-2024.9.0-py3-none-any.whl.metadata (11 kB)\n",
      "Requirement already satisfied: packaging in c:\\users\\wasadmin\\appdata\\roaming\\python\\python312\\site-packages (from fastparquet) (24.0)\n",
      "Requirement already satisfied: python-dateutil>=2.8.2 in c:\\users\\wasadmin\\appdata\\roaming\\python\\python312\\site-packages (from pandas>=1.5.0->fastparquet) (2.9.0.post0)\n",
      "Requirement already satisfied: pytz>=2020.1 in c:\\users\\wasadmin\\appdata\\roaming\\python\\python312\\site-packages (from pandas>=1.5.0->fastparquet) (2024.1)\n",
      "Requirement already satisfied: tzdata>=2022.7 in c:\\users\\wasadmin\\appdata\\roaming\\python\\python312\\site-packages (from pandas>=1.5.0->fastparquet) (2024.1)\n",
      "Requirement already satisfied: six>=1.5 in c:\\users\\wasadmin\\appdata\\roaming\\python\\python312\\site-packages (from python-dateutil>=2.8.2->pandas>=1.5.0->fastparquet) (1.16.0)\n",
      "Downloading fastparquet-2024.5.0-cp312-cp312-win_amd64.whl (673 kB)\n",
      "   ---------------------------------------- 0.0/673.0 kB ? eta -:--:--\n",
      "    --------------------------------------- 10.2/673.0 kB ? eta -:--:--\n",
      "   - ------------------------------------- 30.7/673.0 kB 325.1 kB/s eta 0:00:02\n",
      "   -- ------------------------------------ 41.0/673.0 kB 393.8 kB/s eta 0:00:02\n",
      "   ----- --------------------------------- 92.2/673.0 kB 581.0 kB/s eta 0:00:01\n",
      "   ---------------------------------------  665.6/673.0 kB 3.8 MB/s eta 0:00:01\n",
      "   ---------------------------------------- 673.0/673.0 kB 3.5 MB/s eta 0:00:00\n",
      "Downloading cramjam-2.8.4-cp312-none-win_amd64.whl (2.1 MB)\n",
      "   ---------------------------------------- 0.0/2.1 MB ? eta -:--:--\n",
      "   ---------------------------------------  2.1/2.1 MB 131.2 MB/s eta 0:00:01\n",
      "   ---------------------------------------- 2.1/2.1 MB 33.9 MB/s eta 0:00:00\n",
      "Downloading fsspec-2024.9.0-py3-none-any.whl (179 kB)\n",
      "   ---------------------------------------- 0.0/179.3 kB ? eta -:--:--\n",
      "   --------------------------------------- 179.3/179.3 kB 10.6 MB/s eta 0:00:00\n",
      "Installing collected packages: fsspec, cramjam, fastparquet\n",
      "Successfully installed cramjam-2.8.4 fastparquet-2024.5.0 fsspec-2024.9.0\n",
      "Note: you may need to restart the kernel to use updated packages.\n"
     ]
    },
    {
     "name": "stderr",
     "output_type": "stream",
     "text": [
      "\n",
      "[notice] A new release of pip is available: 24.0 -> 24.2\n",
      "[notice] To update, run: python.exe -m pip install --upgrade pip\n"
     ]
    }
   ],
   "source": [
    "%pip install fastparquet"
   ]
  },
  {
   "cell_type": "code",
   "execution_count": 102,
   "metadata": {},
   "outputs": [],
   "source": [
    "new_data.to_parquet('troop_movements_1m.parquet', engine='pyarrow') "
   ]
  },
  {
   "cell_type": "code",
   "execution_count": 103,
   "metadata": {},
   "outputs": [],
   "source": [
    "with open('gp3.pkl', 'rb') as model_file:\n",
    "    trained_model = pickle.load(model_file)"
   ]
  },
  {
   "cell_type": "code",
   "execution_count": 104,
   "metadata": {},
   "outputs": [],
   "source": [
    "data = pd.read_parquet('troop_movements_1m.parquet', engine='pyarrow') \n"
   ]
  },
  {
   "cell_type": "code",
   "execution_count": 105,
   "metadata": {},
   "outputs": [],
   "source": [
    "X = pd.get_dummies(data[[\"homeworld\",\"unit_type\"]])"
   ]
  },
  {
   "cell_type": "code",
   "execution_count": 106,
   "metadata": {},
   "outputs": [],
   "source": [
    "prediction = trained_model.predict(X)"
   ]
  },
  {
   "cell_type": "code",
   "execution_count": 109,
   "metadata": {},
   "outputs": [],
   "source": [
    "data[\"predictions\"] = prediction"
   ]
  },
  {
   "cell_type": "code",
   "execution_count": 111,
   "metadata": {},
   "outputs": [
    {
     "data": {
      "text/html": [
       "<div>\n",
       "<style scoped>\n",
       "    .dataframe tbody tr th:only-of-type {\n",
       "        vertical-align: middle;\n",
       "    }\n",
       "\n",
       "    .dataframe tbody tr th {\n",
       "        vertical-align: top;\n",
       "    }\n",
       "\n",
       "    .dataframe thead th {\n",
       "        text-align: right;\n",
       "    }\n",
       "</style>\n",
       "<table border=\"1\" class=\"dataframe\">\n",
       "  <thead>\n",
       "    <tr style=\"text-align: right;\">\n",
       "      <th></th>\n",
       "      <th>timestamp</th>\n",
       "      <th>unit_id</th>\n",
       "      <th>unit_type</th>\n",
       "      <th>location_x</th>\n",
       "      <th>location_y</th>\n",
       "      <th>destination_x</th>\n",
       "      <th>destination_y</th>\n",
       "      <th>homeworld</th>\n",
       "      <th>predictions</th>\n",
       "    </tr>\n",
       "  </thead>\n",
       "  <tbody>\n",
       "    <tr>\n",
       "      <th>0</th>\n",
       "      <td>2023-06-03 03:19:15</td>\n",
       "      <td>919214</td>\n",
       "      <td>tie_silencer</td>\n",
       "      <td>2.0</td>\n",
       "      <td>5.0</td>\n",
       "      <td>9</td>\n",
       "      <td>3</td>\n",
       "      <td>Aleen Minor</td>\n",
       "      <td>False</td>\n",
       "    </tr>\n",
       "    <tr>\n",
       "      <th>1</th>\n",
       "      <td>2023-02-24 13:50:40</td>\n",
       "      <td>9467154</td>\n",
       "      <td>stormtrooper</td>\n",
       "      <td>9.0</td>\n",
       "      <td>0.0</td>\n",
       "      <td>9</td>\n",
       "      <td>1</td>\n",
       "      <td>Malastare</td>\n",
       "      <td>True</td>\n",
       "    </tr>\n",
       "    <tr>\n",
       "      <th>2</th>\n",
       "      <td>2023-03-29 19:54:55</td>\n",
       "      <td>6585778</td>\n",
       "      <td>tie_silencer</td>\n",
       "      <td>0.0</td>\n",
       "      <td>6.0</td>\n",
       "      <td>5</td>\n",
       "      <td>9</td>\n",
       "      <td>Serenno</td>\n",
       "      <td>False</td>\n",
       "    </tr>\n",
       "    <tr>\n",
       "      <th>3</th>\n",
       "      <td>2023-04-30 00:58:11</td>\n",
       "      <td>3878023</td>\n",
       "      <td>tie_silencer</td>\n",
       "      <td>4.0</td>\n",
       "      <td>2.0</td>\n",
       "      <td>9</td>\n",
       "      <td>9</td>\n",
       "      <td>Tund</td>\n",
       "      <td>False</td>\n",
       "    </tr>\n",
       "    <tr>\n",
       "      <th>4</th>\n",
       "      <td>2023-04-10 22:00:26</td>\n",
       "      <td>5537117</td>\n",
       "      <td>at-st</td>\n",
       "      <td>6.0</td>\n",
       "      <td>8.0</td>\n",
       "      <td>5</td>\n",
       "      <td>8</td>\n",
       "      <td>Skako</td>\n",
       "      <td>False</td>\n",
       "    </tr>\n",
       "    <tr>\n",
       "      <th>...</th>\n",
       "      <td>...</td>\n",
       "      <td>...</td>\n",
       "      <td>...</td>\n",
       "      <td>...</td>\n",
       "      <td>...</td>\n",
       "      <td>...</td>\n",
       "      <td>...</td>\n",
       "      <td>...</td>\n",
       "      <td>...</td>\n",
       "    </tr>\n",
       "    <tr>\n",
       "      <th>999995</th>\n",
       "      <td>2023-05-03 18:48:56</td>\n",
       "      <td>3553240</td>\n",
       "      <td>tie_fighter</td>\n",
       "      <td>8.0</td>\n",
       "      <td>4.0</td>\n",
       "      <td>8</td>\n",
       "      <td>1</td>\n",
       "      <td>Chandrila</td>\n",
       "      <td>False</td>\n",
       "    </tr>\n",
       "    <tr>\n",
       "      <th>999996</th>\n",
       "      <td>2023-05-25 13:45:35</td>\n",
       "      <td>1662636</td>\n",
       "      <td>at-at</td>\n",
       "      <td>0.0</td>\n",
       "      <td>3.0</td>\n",
       "      <td>8</td>\n",
       "      <td>6</td>\n",
       "      <td>Trandosha</td>\n",
       "      <td>False</td>\n",
       "    </tr>\n",
       "    <tr>\n",
       "      <th>999997</th>\n",
       "      <td>2023-05-17 12:16:37</td>\n",
       "      <td>2362262</td>\n",
       "      <td>tie_fighter</td>\n",
       "      <td>6.0</td>\n",
       "      <td>8.0</td>\n",
       "      <td>7</td>\n",
       "      <td>9</td>\n",
       "      <td>Kashyyyk</td>\n",
       "      <td>True</td>\n",
       "    </tr>\n",
       "    <tr>\n",
       "      <th>999998</th>\n",
       "      <td>2023-03-17 08:04:26</td>\n",
       "      <td>7669749</td>\n",
       "      <td>tie_fighter</td>\n",
       "      <td>9.0</td>\n",
       "      <td>3.0</td>\n",
       "      <td>3</td>\n",
       "      <td>5</td>\n",
       "      <td>Zolan</td>\n",
       "      <td>False</td>\n",
       "    </tr>\n",
       "    <tr>\n",
       "      <th>999999</th>\n",
       "      <td>2023-05-19 12:29:02</td>\n",
       "      <td>2187995</td>\n",
       "      <td>at-st</td>\n",
       "      <td>9.0</td>\n",
       "      <td>4.0</td>\n",
       "      <td>7</td>\n",
       "      <td>4</td>\n",
       "      <td>Dagobah</td>\n",
       "      <td>False</td>\n",
       "    </tr>\n",
       "  </tbody>\n",
       "</table>\n",
       "<p>1000000 rows × 9 columns</p>\n",
       "</div>"
      ],
      "text/plain": [
       "                  timestamp  unit_id     unit_type  location_x  location_y  \\\n",
       "0       2023-06-03 03:19:15   919214  tie_silencer         2.0         5.0   \n",
       "1       2023-02-24 13:50:40  9467154  stormtrooper         9.0         0.0   \n",
       "2       2023-03-29 19:54:55  6585778  tie_silencer         0.0         6.0   \n",
       "3       2023-04-30 00:58:11  3878023  tie_silencer         4.0         2.0   \n",
       "4       2023-04-10 22:00:26  5537117         at-st         6.0         8.0   \n",
       "...                     ...      ...           ...         ...         ...   \n",
       "999995  2023-05-03 18:48:56  3553240   tie_fighter         8.0         4.0   \n",
       "999996  2023-05-25 13:45:35  1662636         at-at         0.0         3.0   \n",
       "999997  2023-05-17 12:16:37  2362262   tie_fighter         6.0         8.0   \n",
       "999998  2023-03-17 08:04:26  7669749   tie_fighter         9.0         3.0   \n",
       "999999  2023-05-19 12:29:02  2187995         at-st         9.0         4.0   \n",
       "\n",
       "        destination_x  destination_y    homeworld  predictions  \n",
       "0                   9              3  Aleen Minor        False  \n",
       "1                   9              1    Malastare         True  \n",
       "2                   5              9      Serenno        False  \n",
       "3                   9              9         Tund        False  \n",
       "4                   5              8        Skako        False  \n",
       "...               ...            ...          ...          ...  \n",
       "999995              8              1    Chandrila        False  \n",
       "999996              8              6    Trandosha        False  \n",
       "999997              7              9     Kashyyyk         True  \n",
       "999998              3              5        Zolan        False  \n",
       "999999              7              4      Dagobah        False  \n",
       "\n",
       "[1000000 rows x 9 columns]"
      ]
     },
     "execution_count": 111,
     "metadata": {},
     "output_type": "execute_result"
    }
   ],
   "source": [
    "data"
   ]
  }
 ],
 "metadata": {
  "kernelspec": {
   "display_name": "Python 3",
   "language": "python",
   "name": "python3"
  },
  "language_info": {
   "codemirror_mode": {
    "name": "ipython",
    "version": 3
   },
   "file_extension": ".py",
   "mimetype": "text/x-python",
   "name": "python",
   "nbconvert_exporter": "python",
   "pygments_lexer": "ipython3",
   "version": "3.12.3"
  }
 },
 "nbformat": 4,
 "nbformat_minor": 2
}
